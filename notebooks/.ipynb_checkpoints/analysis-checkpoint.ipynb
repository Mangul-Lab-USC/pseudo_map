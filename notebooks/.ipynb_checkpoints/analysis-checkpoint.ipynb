{
 "cells": [
  {
   "cell_type": "code",
   "execution_count": 1,
   "metadata": {},
   "outputs": [],
   "source": [
    "import pandas as pd\n",
    "import seaborn as sns"
   ]
  },
  {
   "cell_type": "code",
   "execution_count": 4,
   "metadata": {},
   "outputs": [
    {
     "data": {
      "text/html": [
       "<div>\n",
       "<style scoped>\n",
       "    .dataframe tbody tr th:only-of-type {\n",
       "        vertical-align: middle;\n",
       "    }\n",
       "\n",
       "    .dataframe tbody tr th {\n",
       "        vertical-align: top;\n",
       "    }\n",
       "\n",
       "    .dataframe thead th {\n",
       "        text-align: right;\n",
       "    }\n",
       "</style>\n",
       "<table border=\"1\" class=\"dataframe\">\n",
       "  <thead>\n",
       "    <tr style=\"text-align: right;\">\n",
       "      <th></th>\n",
       "      <th>tool</th>\n",
       "      <th>strain</th>\n",
       "      <th>length</th>\n",
       "      <th>flag</th>\n",
       "      <th>position</th>\n",
       "      <th>threshold</th>\n",
       "    </tr>\n",
       "  </thead>\n",
       "  <tbody>\n",
       "    <tr>\n",
       "      <th>0</th>\n",
       "      <td>sniffles</td>\n",
       "      <td>LP_J</td>\n",
       "      <td>1725</td>\n",
       "      <td>FP</td>\n",
       "      <td>6055203</td>\n",
       "      <td>100</td>\n",
       "    </tr>\n",
       "    <tr>\n",
       "      <th>1</th>\n",
       "      <td>sniffles</td>\n",
       "      <td>LP_J</td>\n",
       "      <td>34582728</td>\n",
       "      <td>FP</td>\n",
       "      <td>17098523</td>\n",
       "      <td>100</td>\n",
       "    </tr>\n",
       "    <tr>\n",
       "      <th>2</th>\n",
       "      <td>sniffles</td>\n",
       "      <td>LP_J</td>\n",
       "      <td>48</td>\n",
       "      <td>FP</td>\n",
       "      <td>17201451</td>\n",
       "      <td>100</td>\n",
       "    </tr>\n",
       "    <tr>\n",
       "      <th>3</th>\n",
       "      <td>sniffles</td>\n",
       "      <td>LP_J</td>\n",
       "      <td>35</td>\n",
       "      <td>FP</td>\n",
       "      <td>17291187</td>\n",
       "      <td>100</td>\n",
       "    </tr>\n",
       "    <tr>\n",
       "      <th>4</th>\n",
       "      <td>sniffles</td>\n",
       "      <td>LP_J</td>\n",
       "      <td>34</td>\n",
       "      <td>FP</td>\n",
       "      <td>17805736</td>\n",
       "      <td>100</td>\n",
       "    </tr>\n",
       "  </tbody>\n",
       "</table>\n",
       "</div>"
      ],
      "text/plain": [
       "       tool strain    length flag  position  threshold\n",
       "0  sniffles   LP_J      1725   FP   6055203        100\n",
       "1  sniffles   LP_J  34582728   FP  17098523        100\n",
       "2  sniffles   LP_J        48   FP  17201451        100\n",
       "3  sniffles   LP_J        35   FP  17291187        100\n",
       "4  sniffles   LP_J        34   FP  17805736        100"
      ]
     },
     "execution_count": 4,
     "metadata": {},
     "output_type": "execute_result"
    }
   ],
   "source": [
    "df = pd.read_csv(\"../raw_data/df_100.csv\")\n",
    "df.head()"
   ]
  },
  {
   "cell_type": "code",
   "execution_count": null,
   "metadata": {},
   "outputs": [],
   "source": []
  }
 ],
 "metadata": {
  "kernelspec": {
   "display_name": "Python 3",
   "language": "python",
   "name": "python3"
  },
  "language_info": {
   "codemirror_mode": {
    "name": "ipython",
    "version": 3
   },
   "file_extension": ".py",
   "mimetype": "text/x-python",
   "name": "python",
   "nbconvert_exporter": "python",
   "pygments_lexer": "ipython3",
   "version": "3.6.8"
  }
 },
 "nbformat": 4,
 "nbformat_minor": 2
}
